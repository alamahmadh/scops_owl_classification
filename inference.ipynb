{
 "cells": [
  {
   "cell_type": "code",
   "execution_count": null,
   "id": "17167976",
   "metadata": {},
   "outputs": [],
   "source": []
  },
  {
   "cell_type": "code",
   "execution_count": null,
   "id": "fc8ec1ef",
   "metadata": {},
   "outputs": [],
   "source": [
    "#An example of the spectrogram visualization\n",
    "import matplotlib.pyplot as plt\n",
    "import librosa.display\n",
    "i\n",
    "fname = 'data/test/ Otus_angelinae/Otusangelinae141909-extract3.wav'\n",
    "y, sr = librosa.load(fname)\n",
    "S = librosa.feature.melspectrogram(y=y, sr=sr, n_mels=128, fmax=8000)\n",
    "\n",
    "plt.figure(figsize=(20, 5))\n",
    "S_dB = librosa.power_to_db(S, ref=np.max)\n",
    "librosa.display.specshow(S_dB, x_axis='time',\n",
    "                          y_axis='mel', sr=sr)\n",
    "#plt.colorbar(format='%+2.0f dB')\n",
    "plt.title('Mel-frequency spectrogram')\n",
    "#plt.tight_layout()\n",
    "plt.show()"
   ]
  }
 ],
 "metadata": {
  "kernelspec": {
   "display_name": "Python 3 (ipykernel)",
   "language": "python",
   "name": "python3"
  },
  "language_info": {
   "codemirror_mode": {
    "name": "ipython",
    "version": 3
   },
   "file_extension": ".py",
   "mimetype": "text/x-python",
   "name": "python",
   "nbconvert_exporter": "python",
   "pygments_lexer": "ipython3",
   "version": "3.7.13"
  }
 },
 "nbformat": 4,
 "nbformat_minor": 5
}
